{
 "cells": [
  {
   "cell_type": "code",
   "execution_count": 26,
   "metadata": {
    "collapsed": false
   },
   "outputs": [],
   "source": [
    "import numpy as np\n",
    "from numpy import pi, sqrt, cos, sin\n",
    "import matplotlib.pyplot as plt\n",
    "\n",
    "%matplotlib inline"
   ]
  },
  {
   "cell_type": "markdown",
   "metadata": {},
   "source": [
    "The 1D Burgers with viscosity is\n",
    "\n",
    "\\begin{equation}\n",
    "\\frac{\\partial u}{\\partial t} = \\nu \\frac{\\partial^2 u}{\\partial x^2} - u \\frac{\\partial u}{\\partial x}\\,.\n",
    "\\end{equation}\n",
    "\n",
    "Fourier transforming in the pseudo-spectral sprit, we obtain\n",
    "\\begin{equation}\n",
    "\\frac{d \\hat{u}_k}{d t} = -\\underbrace{\\nu k^2 \\hat{u}_k}_{Lin}- \\underbrace{(\\hat{u \\partial_x u})_k}_{NL}\\,.\n",
    "\\end{equation}\n",
    "\n",
    "We solve this eqn. in a periodic domain of length $2\\pi$ with initial condition:\n",
    "\n",
    "\\begin{equation}\n",
    "u_0 = \\sin(x)\\,.\n",
    "\\end{equation}"
   ]
  },
  {
   "cell_type": "code",
   "execution_count": 3,
   "metadata": {
    "collapsed": true
   },
   "outputs": [],
   "source": [
    "N = 2048\n",
    "L = 2.*pi\n",
    "dx = L/N\n",
    "nu = 1.e-3\n",
    "dt = .2*dx\n",
    "x = np.arange(0.,L,dx)\n",
    "u0 = sin(x)\n",
    "k = np.arange(0.,N/2+1)"
   ]
  },
  {
   "cell_type": "code",
   "execution_count": 4,
   "metadata": {
    "collapsed": false
   },
   "outputs": [],
   "source": [
    "Lin = -nu*dt*(k**2)  # the  viscous linear operator of 1D Burgers eqn.\n",
    "\n",
    "def NL(k,uh,N):\n",
    "    \"\"\" Compute dealiased nonlinear term of 1D Burgers eqn \"\"\"\n",
    "    \n",
    "    uh_pad = np.zeros(3*N/4+1,dtype='complex128')\n",
    "    uxh_pad = np.zeros(3*N/4+1,dtype='complex128')\n",
    "\n",
    "    uh_pad[:N/2+1] = uh\n",
    "    uxh_pad[:N/2+1] = 1j*k*uh\n",
    "\n",
    "    u_pad = np.fft.irfft(uh_pad)\n",
    "    ux_pad = np.fft.irfft(uxh_pad)           \n",
    "\n",
    "    return -np.fft.rfft(u_pad*ux_pad)[:N/2+1]"
   ]
  },
  {
   "cell_type": "code",
   "execution_count": 13,
   "metadata": {
    "collapsed": false
   },
   "outputs": [],
   "source": [
    "def stepforward(k,uh,N,dt,Lin,NL):\n",
    "    \"\"\" Step 1D Burgers equation forwards using a RK3W-theta scheme:\n",
    "            implicit for linear viscous term and explicit for NL term \"\"\"\n",
    "    a1, a2, a3 = 29./96., -3./40., 1./6.\n",
    "    b1, b2, b3 = 37./160., 5./24., 1./6.\n",
    "    c1, c2, c3 = 8./15., 5./12., 3./4.\n",
    "    d1, d2 = -17./60., 5./12.\n",
    "    \n",
    "    NL1 = NL(k,uh,N)\n",
    "    uh = ( (1. + a1*Lin)/(1. - b1*Lin) )*uh + c1*dt*NL1\n",
    "    \n",
    "    NL2 = NL1.copy()\n",
    "    NL1 = NL(k,uh,N)\n",
    "    uh = ( (1. + a2*Lin)/(1. - b2*Lin) )*uh + c2*dt*NL1 + d1*dt*NL2\n",
    "\n",
    "    NL2 = NL1.copy()\n",
    "    NL1 = NL(k,uh,N)\n",
    "    uh = ( (1. + a3*Lin)/(1. - b3*Lin) )*uh + c3*dt*NL1 + d2*dt*NL2\n",
    "\n",
    "    return uh"
   ]
  },
  {
   "cell_type": "code",
   "execution_count": 6,
   "metadata": {
    "collapsed": false
   },
   "outputs": [],
   "source": [
    "tmax = 5.25\n",
    "nmax = int(np.ceil(tmax/dt))"
   ]
  },
  {
   "cell_type": "code",
   "execution_count": 7,
   "metadata": {
    "collapsed": false
   },
   "outputs": [],
   "source": [
    "uh = np.fft.rfft(u0)\n",
    "for i in range(nmax):\n",
    "    uh = stepforward(k,uh,N,dt,Lin,NL)"
   ]
  },
  {
   "cell_type": "code",
   "execution_count": 8,
   "metadata": {
    "collapsed": false
   },
   "outputs": [],
   "source": [
    "u = np.fft.irfft(uh)"
   ]
  },
  {
   "cell_type": "code",
   "execution_count": 9,
   "metadata": {
    "collapsed": false
   },
   "outputs": [
    {
     "data": {
      "text/plain": [
       "[<matplotlib.lines.Line2D at 0x110745750>]"
      ]
     },
     "execution_count": 9,
     "metadata": {},
     "output_type": "execute_result"
    },
    {
     "data": {
      "image/png": "[encoded data removed]",
      "text/plain": [
       "<matplotlib.figure.Figure at 0x106677290>"
      ]
     },
     "metadata": {},
     "output_type": "display_data"
    }
   ],
   "source": [
    "plt.plot(x,u0,'--')\n",
    "plt.plot(x,u)"
   ]
  },
  {
   "cell_type": "code",
   "execution_count": 22,
   "metadata": {
    "collapsed": false
   },
   "outputs": [],
   "source": [
    "normu_python = 121.35437735625064  \n",
    "normu_fortran = 121.35437735625098\n",
    "normu = (u**2).sum()"
   ]
  },
  {
   "cell_type": "code",
   "execution_count": 23,
   "metadata": {
    "collapsed": false
   },
   "outputs": [],
   "source": [
    "np.testing.assert_allclose(normu,normu_python,rtol=1.e-15,atol=1.e-15)"
   ]
  },
  {
   "cell_type": "code",
   "execution_count": 24,
   "metadata": {
    "collapsed": false
   },
   "outputs": [
    {
     "ename": "AssertionError",
     "evalue": "\nNot equal to tolerance rtol=1e-15, atol=1e-15\n\n(mismatch 100.0%)\n x: array(121.35437735625064)\n y: array(121.35437735625098)",
     "output_type": "error",
     "traceback": [
      "\u001b[0;31m---------------------------------------------------------------------------\u001b[0m",
      "\u001b[0;31mAssertionError\u001b[0m                            Traceback (most recent call last)",
      "\u001b[0;32m<ipython-input-24-33c086b28aff>\u001b[0m in \u001b[0;36m<module>\u001b[0;34m()\u001b[0m\n\u001b[0;32m----> 1\u001b[0;31m \u001b[0mnp\u001b[0m\u001b[0;34m.\u001b[0m\u001b[0mtesting\u001b[0m\u001b[0;34m.\u001b[0m\u001b[0massert_allclose\u001b[0m\u001b[0;34m(\u001b[0m\u001b[0mnormu\u001b[0m\u001b[0;34m,\u001b[0m\u001b[0mnormu_fortran\u001b[0m\u001b[0;34m,\u001b[0m\u001b[0mrtol\u001b[0m\u001b[0;34m=\u001b[0m\u001b[0;36m1.e-15\u001b[0m\u001b[0;34m,\u001b[0m\u001b[0matol\u001b[0m\u001b[0;34m=\u001b[0m\u001b[0;36m1.e-15\u001b[0m\u001b[0;34m)\u001b[0m\u001b[0;34m\u001b[0m\u001b[0m\n\u001b[0m",
      "\u001b[0;32m/Users/crocha/anaconda/lib/python2.7/site-packages/numpy/testing/utils.pyc\u001b[0m in \u001b[0;36massert_allclose\u001b[0;34m(actual, desired, rtol, atol, err_msg, verbose)\u001b[0m\n\u001b[1;32m   1295\u001b[0m     \u001b[0mheader\u001b[0m \u001b[0;34m=\u001b[0m \u001b[0;34m'Not equal to tolerance rtol=%g, atol=%g'\u001b[0m \u001b[0;34m%\u001b[0m \u001b[0;34m(\u001b[0m\u001b[0mrtol\u001b[0m\u001b[0;34m,\u001b[0m \u001b[0matol\u001b[0m\u001b[0;34m)\u001b[0m\u001b[0;34m\u001b[0m\u001b[0m\n\u001b[1;32m   1296\u001b[0m     assert_array_compare(compare, actual, desired, err_msg=str(err_msg),\n\u001b[0;32m-> 1297\u001b[0;31m                          verbose=verbose, header=header)\n\u001b[0m\u001b[1;32m   1298\u001b[0m \u001b[0;34m\u001b[0m\u001b[0m\n\u001b[1;32m   1299\u001b[0m \u001b[0;32mdef\u001b[0m \u001b[0massert_array_almost_equal_nulp\u001b[0m\u001b[0;34m(\u001b[0m\u001b[0mx\u001b[0m\u001b[0;34m,\u001b[0m \u001b[0my\u001b[0m\u001b[0;34m,\u001b[0m \u001b[0mnulp\u001b[0m\u001b[0;34m=\u001b[0m\u001b[0;36m1\u001b[0m\u001b[0;34m)\u001b[0m\u001b[0;34m:\u001b[0m\u001b[0;34m\u001b[0m\u001b[0m\n",
      "\u001b[0;32m/Users/crocha/anaconda/lib/python2.7/site-packages/numpy/testing/utils.pyc\u001b[0m in \u001b[0;36massert_array_compare\u001b[0;34m(comparison, x, y, err_msg, verbose, header, precision)\u001b[0m\n\u001b[1;32m    663\u001b[0m                                 names=('x', 'y'), precision=precision)\n\u001b[1;32m    664\u001b[0m             \u001b[0;32mif\u001b[0m \u001b[0;32mnot\u001b[0m \u001b[0mcond\u001b[0m \u001b[0;34m:\u001b[0m\u001b[0;34m\u001b[0m\u001b[0m\n\u001b[0;32m--> 665\u001b[0;31m                 \u001b[0;32mraise\u001b[0m \u001b[0mAssertionError\u001b[0m\u001b[0;34m(\u001b[0m\u001b[0mmsg\u001b[0m\u001b[0;34m)\u001b[0m\u001b[0;34m\u001b[0m\u001b[0m\n\u001b[0m\u001b[1;32m    666\u001b[0m     \u001b[0;32mexcept\u001b[0m \u001b[0mValueError\u001b[0m \u001b[0;32mas\u001b[0m \u001b[0me\u001b[0m\u001b[0;34m:\u001b[0m\u001b[0;34m\u001b[0m\u001b[0m\n\u001b[1;32m    667\u001b[0m         \u001b[0;32mimport\u001b[0m \u001b[0mtraceback\u001b[0m\u001b[0;34m\u001b[0m\u001b[0m\n",
      "\u001b[0;31mAssertionError\u001b[0m: \nNot equal to tolerance rtol=1e-15, atol=1e-15\n\n(mismatch 100.0%)\n x: array(121.35437735625064)\n y: array(121.35437735625098)"
     ]
    }
   ],
   "source": [
    "np.testing.assert_allclose(normu,normu_fortran,rtol=1.e-15,atol=1.e-15)"
   ]
  },
  {
   "cell_type": "code",
   "execution_count": 25,
   "metadata": {
    "collapsed": false
   },
   "outputs": [
    {
     "data": {
      "text/plain": [
       "3.410605131648481e-13"
      ]
     },
     "execution_count": 25,
     "metadata": {},
     "output_type": "execute_result"
    }
   ],
   "source": [
    "normu_fortran-normu_python"
   ]
  },
  {
   "cell_type": "code",
   "execution_count": 27,
   "metadata": {
    "collapsed": false
   },
   "outputs": [
    {
     "data": {
      "text/plain": [
       "2.8104508514235393e-15"
      ]
     },
     "execution_count": 27,
     "metadata": {},
     "output_type": "execute_result"
    }
   ],
   "source": [
    "(normu_fortran-normu_python)/normu_python"
   ]
  },
  {
   "cell_type": "code",
   "execution_count": null,
   "metadata": {
    "collapsed": true
   },
   "outputs": [],
   "source": []
  }
 ],
 "metadata": {
  "kernelspec": {
   "display_name": "Python 2",
   "language": "python",
   "name": "python2"
  },
  "language_info": {
   "codemirror_mode": {
    "name": "ipython",
    "version": 2
   },
   "file_extension": ".py",
   "mimetype": "text/x-python",
   "name": "python",
   "nbconvert_exporter": "python",
   "pygments_lexer": "ipython2",
   "version": "2.7.9"
  }
 },
 "nbformat": 4,
 "nbformat_minor": 0
}
